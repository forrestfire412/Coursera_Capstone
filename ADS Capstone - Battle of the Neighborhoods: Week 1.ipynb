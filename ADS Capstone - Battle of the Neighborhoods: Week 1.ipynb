{
    "cells": [
        {
            "cell_type": "markdown",
            "metadata": {
                "collapsed": true
            },
            "source": "## Capstone Project \u2013 Battle of the Neighborhoods (Part 1 \u2013 Week 4)\n12.13.20\n\n__1. Introduction__\n\n__Background__<br>\nThe restaurant industry represents 4% of the U.S. GDP and employees one in 10 Americans. The industry is fast-moving with ebbs and flows and low profit margins. A subset of this sector is food trucks. Food trucks have advantages to the traditional brick and mortar store front. First, they are mobile and allow operators to move to customers to increase their visibility and foot traffic. With the explosion of social media this allows repeat customers to easily locate the business and increase exposer to new customers. Next, their limited food production ability streamlines the meus and lowers food costs. Additional, owning their \u201clocation\u201d, truck, insulates owners against increasing rent and utilities combing to increase operator profit margins. __Even with these advantages 60% of all food truck businesses fail and starting or expanding into a new market brings high risk.__ Therefore, this project will identify if similar neighborhood compositions are found between Denver, CO, with a thriving food truck culture, to Jacksonville, FL a target location. Knowledge of similarities will reduce the risk of starting or expanding a business in a new location.  \n\nData that can determine if a location is optimal of an enterprise includes nightlife, sporting events, and outdoor recreation venues. This is where Fourquare venue data will be used to cluster similar neighborhoods in the control and target location. The purpose of this project is to predict an optimal location to begin a food truck business.\n            \nThis project targets restaurateurs interested in starting a franchise, expanding their business, or starting a business. Secondary targets are outside investors interested in reducing risk of capital investments into the restaurant sector.\n\n__2. Data__\n\n__Data Sources__<br>\nTwo cities, Denver, CO (control) and Jacksonville, FL (target), will be used to identify similarities in the composition of the neighborhood venues. Denver, CO neighborhood names are sourced from [denvergov.org](https://www.denvergov.org/opendata/dataset/city-and-county-of-denver-statistical-neighborhoods) and Jacksonville, FL scraped from Wikipedia [Neighborhoods of Jacksonville](https://en.wikipedia.org/wiki/Neighborhoods_of_Jacksonville). City geolocation data from [positionstack.com](https://positionstack.com/) will include latitude and longitude of the city neighborhoods. From the geolocation data the venue composition data will be obtained from [Foursquare](https://foursquare.com/). Venue categories will include Arts and Entertainment, Music and Sports, College and University, Nightlife, and Outdoors and Recreation. With the venue data, clustering of the neighborhoods will be performed to identify similarities within neighborhoods between cities.\n"
        }
    ],
    "metadata": {
        "kernelspec": {
            "display_name": "Python 3.7",
            "language": "python",
            "name": "python3"
        },
        "language_info": {
            "codemirror_mode": {
                "name": "ipython",
                "version": 3
            },
            "file_extension": ".py",
            "mimetype": "text/x-python",
            "name": "python",
            "nbconvert_exporter": "python",
            "pygments_lexer": "ipython3",
            "version": "3.7.9"
        }
    },
    "nbformat": 4,
    "nbformat_minor": 1
}